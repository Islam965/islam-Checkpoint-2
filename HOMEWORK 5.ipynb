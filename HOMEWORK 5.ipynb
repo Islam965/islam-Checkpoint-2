{
 "cells": [
  {
   "cell_type": "code",
   "execution_count": 1,
   "id": "2e6cc466",
   "metadata": {},
   "outputs": [
    {
     "name": "stdout",
     "output_type": "stream",
     "text": [
      "Enter five test scores separated by commas: 90,80,70,60,50\n",
      "90.0 is A\n",
      "\n",
      "80.0 is B\n",
      "\n",
      "70.0 is C\n",
      "\n",
      "60.0 is D\n",
      "\n",
      "50.0 is F\n",
      "\n",
      "The average is: 70.0 which is C\n"
     ]
    }
   ],
   "source": [
    "def main():\n",
    "    scores = input(\"Enter five test scores separated by commas: \")\n",
    "    return [int(num) for num in scores.split(\",\")]\n",
    "\n",
    "\n",
    "def determine_grade(num):\n",
    "    if 90 <= num <= 100:\n",
    "        letter_grade = \"A\"\n",
    "    elif 80 <= num <= 89:\n",
    "        letter_grade = \"B\"\n",
    "    elif 70 <= num <= 79:\n",
    "        letter_grade = \"C\"\n",
    "    elif 60 <= num <= 69:\n",
    "        letter_grade = \"D\"\n",
    "    else:\n",
    "        letter_grade = \"F\"\n",
    "    return letter_grade\n",
    "\n",
    "\n",
    "def calc_average(grades):\n",
    "    average = sum(grades) / len(grades)\n",
    "    grade = determine_grade(average)\n",
    "    print(\"The average is: {:.1f} which is {}\".format(average, grade))\n",
    "\n",
    "\n",
    "def show_letters(num, letter_grade):\n",
    "    print(\"{:.1f} is {}\\n\".format(num, letter_grade))\n",
    "\n",
    "\n",
    "lst = main()\n",
    "for n in lst:\n",
    "    show_letters(n, determine_grade(n))\n",
    "calc_average(lst)"
   ]
  },
  {
   "cell_type": "code",
   "execution_count": null,
   "id": "81f9b68a",
   "metadata": {},
   "outputs": [],
   "source": []
  }
 ],
 "metadata": {
  "kernelspec": {
   "display_name": "Python 3 (ipykernel)",
   "language": "python",
   "name": "python3"
  },
  "language_info": {
   "codemirror_mode": {
    "name": "ipython",
    "version": 3
   },
   "file_extension": ".py",
   "mimetype": "text/x-python",
   "name": "python",
   "nbconvert_exporter": "python",
   "pygments_lexer": "ipython3",
   "version": "3.10.9"
  }
 },
 "nbformat": 4,
 "nbformat_minor": 5
}
