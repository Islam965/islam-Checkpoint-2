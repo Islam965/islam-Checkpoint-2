{
 "cells": [
  {
   "cell_type": "code",
   "execution_count": 10,
   "id": "2d7f8309",
   "metadata": {},
   "outputs": [
    {
     "name": "stdout",
     "output_type": "stream",
     "text": [
      "(1,2,3)\n"
     ]
    }
   ],
   "source": [
    "class Point3D:\n",
    "    def __init__(self, x , y, z):\n",
    "        self.x=x\n",
    "        self.y=y\n",
    "        self.z=z\n",
    "    def xyz(self):\n",
    "        return \"({},{},{})\".format(self.x,self.y,self.z)\n",
    "    \n",
    "    \n",
    "my_point=Point3D(1,2,3)\n",
    "print(my_point.xyz())"
   ]
  },
  {
   "cell_type": "code",
   "execution_count": 15,
   "id": "a89fde9a",
   "metadata": {},
   "outputs": [
    {
     "name": "stdout",
     "output_type": "stream",
     "text": [
      "12\n",
      "14\n"
     ]
    }
   ],
   "source": [
    "class Rectangle():\n",
    "    def __init__(self,length,width):\n",
    "        self.length=length\n",
    "        self.width=width\n",
    "    def area(self):\n",
    "        return (self.length*self.width)\n",
    "    def  primeter(self):\n",
    "        return (2*(self.length+self.width))\n",
    "    \n",
    "    \n",
    "my_rectangle=Rectangle(4,3)\n",
    "print(my_rectangle.area())\n",
    "print(my_rectangle.primeter())\n",
    "    \n",
    "    \n",
    "    \n",
    "    "
   ]
  },
  {
   "cell_type": "code",
   "execution_count": 25,
   "id": "567c53df",
   "metadata": {},
   "outputs": [
    {
     "name": "stdout",
     "output_type": "stream",
     "text": [
      "circle area is :  12.571428571428571\n",
      "cricle primeter is :  12.571428571428571\n",
      "this point is : inside the cirlce\n"
     ]
    }
   ],
   "source": [
    "class Circle:\n",
    "    def __init__(self,o,r):\n",
    "        self.o=o\n",
    "        self.r=r\n",
    "    def area(self):\n",
    "        return ((22/7)*(self.r)**2)\n",
    "    def primeter(self):\n",
    "        return (2*(22/7)*self.r)\n",
    "    def isinside(self,j,k):\n",
    "        if ((j-self.o[0])**2)+((self.o[1]-k)**2)<=self.r*self.r:\n",
    "            return \"inside the cirlce\"\n",
    "        else:\n",
    "            return \"outside the circle\"\n",
    "            \n",
    "my_circle=Circle((0,1),2)\n",
    "print(\"circle area is : \", my_circle.area())\n",
    "print(\"cricle primeter is : \" ,my_circle.primeter()) \n",
    "print(\"this point is :\",my_circle.isinside(1,2))            "
   ]
  },
  {
   "cell_type": "code",
   "execution_count": 28,
   "id": "e3f2185e",
   "metadata": {},
   "outputs": [
    {
     "name": "stdout",
     "output_type": "stream",
     "text": [
      "1100\n",
      "1070\n"
     ]
    }
   ],
   "source": [
    "class Bank:\n",
    "    def __init__(self,balance):\n",
    "        self.balance = balance\n",
    "    def deposit(self,x):\n",
    "        self.balance += x\n",
    "        return self.balance\n",
    "    def withdraw(self,x):\n",
    "        self.balance -= x\n",
    "        return self.balance\n",
    "    \n",
    "action = Bank(1000)\n",
    "\n",
    "\n",
    "print(action.deposit(100))\n",
    "\n",
    "print(action.withdraw(30))"
   ]
  },
  {
   "cell_type": "code",
   "execution_count": null,
   "id": "5e9961a6",
   "metadata": {},
   "outputs": [],
   "source": []
  },
  {
   "cell_type": "code",
   "execution_count": null,
   "id": "d4d6382c",
   "metadata": {},
   "outputs": [],
   "source": []
  }
 ],
 "metadata": {
  "kernelspec": {
   "display_name": "Python 3 (ipykernel)",
   "language": "python",
   "name": "python3"
  },
  "language_info": {
   "codemirror_mode": {
    "name": "ipython",
    "version": 3
   },
   "file_extension": ".py",
   "mimetype": "text/x-python",
   "name": "python",
   "nbconvert_exporter": "python",
   "pygments_lexer": "ipython3",
   "version": "3.10.9"
  }
 },
 "nbformat": 4,
 "nbformat_minor": 5
}
